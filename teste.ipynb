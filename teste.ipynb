{
 "cells": [
  {
   "cell_type": "code",
   "execution_count": 3,
   "metadata": {},
   "outputs": [
    {
     "data": {
      "text/plain": [
       "'Basicamente, o código encontra o elemento que contém a lista de seguidores, e então executa um script que faz o scroll da página para baixo. \\nO loop é executado 5 vezes, ou seja, a lista é rolada para baixo 5 vezes para garantir que todos os seguidores sejam carregados.\\nDepois de cada scroll, o código espera 2 segundos para o carregamento da página antes de executar o próximo scroll.'"
      ]
     },
     "execution_count": 3,
     "metadata": {},
     "output_type": "execute_result"
    }
   ],
   "source": [
    "from selenium import webdriver\n",
    "from webdriver_manager.chrome import ChromeDriverManager\n",
    "from selenium.webdriver.chrome.service import Service\n",
    "import pandas as pd\n",
    "from datetime import datetime\n",
    "import time\n",
    "import re\n",
    "from selenium import webdriver\n",
    "from selenium.webdriver.common.by import By\n",
    "from selenium.webdriver.common.keys import Keys\n",
    "from selenium.webdriver.support.wait import WebDriverWait\n",
    "from webdriver_manager.chrome import ChromeDriverManager\n",
    "from selenium.webdriver.support import expected_conditions as EC\n",
    "from webdriver_manager.microsoft import EdgeChromiumDriverManager\n",
    "  \n",
    "\n",
    "serv = Service(ChromeDriverManager().install())\n",
    "driver = webdriver.Chrome(service=serv)\n",
    "\n",
    "id_acount = 'j.barbosaa0'\n",
    "pass_acount = 'Workpass123!'\n",
    "work_acount = 'j.barbosaa0'\n",
    "\n",
    "driver.get('https://www.instagram.com/')\n",
    "time.sleep(2)\n",
    "\n",
    "driver.find_element('xpath', '//*[@id=\"loginForm\"]/div/div[1]/div/label/input').send_keys(id_acount)\n",
    "driver.find_element('xpath', '//*[@id=\"loginForm\"]/div/div[2]/div/label/input').send_keys(pass_acount)\n",
    "driver.find_element('xpath', '//*[@id=\"loginForm\"]/div/div[3]').click()\n",
    "time.sleep(4)\n",
    "driver.get('https://www.instagram.com/unbpaquera/followers/')\n",
    "time.sleep(4)\n",
    "\n",
    "fBody = driver.find_element(\"xpath\", \"//div[@class='_aano']\")  # encontra o corpo da lista de seguidores\n",
    "#//*[@id=\"mount_0_0_hG\"]/div/div/div[2]/div/div/div[1]/div/div[2]/div/div/div/div/div[2]/div/div/div[2]\n",
    "#//*[@id=\"mount_0_0_hG\"]/div/div/div[2]/div/div/div[1]/div/div[2]/div/div/div\n",
    "scroll = 0  # inicializa a variável de controle de scroll\n",
    "while scroll < 5:  # enquanto o número de scrolls for menor que 5\n",
    "    driver.execute_script('arguments[0].scrollTop = arguments[0].scrollTop + arguments[0].offsetHeight;', fBody)  # executa o script que rola a lista de seguidores para baixo\n",
    "    time.sleep(2)  # espera 2 segundos para o carregamento da página\n",
    "    scroll += 1  # incrementa a variável de controle de scroll em 1 unidade\n",
    "\n",
    "\n",
    "\n",
    "\n",
    "\"\"\"Basicamente, o código encontra o elemento que contém a lista de seguidores, e então executa um script que faz o scroll da página para baixo. \n",
    "O loop é executado 5 vezes, ou seja, a lista é rolada para baixo 5 vezes para garantir que todos os seguidores sejam carregados.\n",
    "Depois de cada scroll, o código espera 2 segundos para o carregamento da página antes de executar o próximo scroll.\"\"\""
   ]
  },
  {
   "cell_type": "code",
   "execution_count": null,
   "metadata": {},
   "outputs": [],
   "source": [
    "contador = 1\n",
    "for i in range(1, 6):\n",
    "    if driver.find_element('xpath', f'/html/body/div[2]/div/div/div/div[2]/div/div/div[1]/div/div[2]/div/div/div/div/div[2]/div/div/div[2]/div[1]/div/div[{i}]/div[3]/button/div/div').text == 'Seguir':\n",
    "        driver.find_element('xpath', f'/html/body/div[2]/div/div/div/div[2]/div/div/div[1]/div/div[2]/div/div/div/div/div[2]/div/div/div[2]/div[1]/div/div[{i}]/div[3]/button/div/div').click()\n",
    "        time.sleep(2)\n",
    "    else:\n",
    "        driver.find_element('xpath', f'/html/body/div[2]/div/div/div/div[2]/div/div/div[1]/div/div[2]/div/div/div/div/div[2]/div/div/div[2]/div[1]/div/div[{i}]/div[3]/button/div/div').click()\n",
    "        time.sleep(2)\n",
    "        driver.find_element('xpath', '/html/body/div[2]/div/div/div/div[2]/div/div/div[2]/div/div/div[1]/div/div[2]/div/div/div/div/div[2]/div/div/div[3]/button[1]').click()\n",
    "        time.sleep(2)"
   ]
  },
  {
   "cell_type": "code",
   "execution_count": 3,
   "metadata": {},
   "outputs": [
    {
     "name": "stderr",
     "output_type": "stream",
     "text": [
      "C:\\Users\\marcj\\AppData\\Local\\Temp\\ipykernel_14048\\2585639030.py:12: DeprecationWarning: executable_path has been deprecated, please pass in a Service object\n",
      "  driver = webdriver.Chrome(ChromeDriverManager().install())\n"
     ]
    },
    {
     "ename": "TimeoutException",
     "evalue": "Message: \nStacktrace:\nBacktrace:\n\t(No symbol) [0x00B337D3]\n\t(No symbol) [0x00AC8B81]\n\t(No symbol) [0x009CB36D]\n\t(No symbol) [0x009FD382]\n\t(No symbol) [0x009FD4BB]\n\t(No symbol) [0x00A33302]\n\t(No symbol) [0x00A1B464]\n\t(No symbol) [0x00A31215]\n\t(No symbol) [0x00A1B216]\n\t(No symbol) [0x009F0D97]\n\t(No symbol) [0x009F253D]\n\tGetHandleVerifier [0x00DAABF2+2510930]\n\tGetHandleVerifier [0x00DD8EC1+2700065]\n\tGetHandleVerifier [0x00DDC86C+2714828]\n\tGetHandleVerifier [0x00BE3480+645344]\n\t(No symbol) [0x00AD0FD2]\n\t(No symbol) [0x00AD6C68]\n\t(No symbol) [0x00AD6D4B]\n\t(No symbol) [0x00AE0D6B]\n\tBaseThreadInitThunk [0x76CD00F9+25]\n\tRtlGetAppContainerNamedObjectPath [0x773D7BBE+286]\n\tRtlGetAppContainerNamedObjectPath [0x773D7B8E+238]\n",
     "output_type": "error",
     "traceback": [
      "\u001b[1;31m---------------------------------------------------------------------------\u001b[0m",
      "\u001b[1;31mTimeoutException\u001b[0m                          Traceback (most recent call last)",
      "Cell \u001b[1;32mIn[3], line 43\u001b[0m\n\u001b[0;32m     38\u001b[0m time\u001b[39m.\u001b[39msleep(\u001b[39m5\u001b[39m)\n\u001b[0;32m     40\u001b[0m driver\u001b[39m.\u001b[39mget(\u001b[39m\"\u001b[39m\u001b[39mhttps://www.instagram.com/geeks_for_geeks/followers/\u001b[39m\u001b[39m\"\u001b[39m)\n\u001b[1;32m---> 43\u001b[0m pop_up_window \u001b[39m=\u001b[39m WebDriverWait(driver, \u001b[39m2\u001b[39;49m)\u001b[39m.\u001b[39;49muntil(EC\u001b[39m.\u001b[39;49melement_to_be_clickable((By\u001b[39m.\u001b[39;49mXPATH, \u001b[39m\"\u001b[39;49m\u001b[39m//div[@class=\u001b[39;49m\u001b[39m'\u001b[39;49m\u001b[39misgrP\u001b[39;49m\u001b[39m'\u001b[39;49m\u001b[39m]\u001b[39;49m\u001b[39m\"\u001b[39;49m)))\n\u001b[0;32m     46\u001b[0m \u001b[39m# Simulate scrolling down the pop-up window\u001b[39;00m\n\u001b[0;32m     47\u001b[0m \u001b[39mwhile\u001b[39;00m \u001b[39mTrue\u001b[39;00m:\n",
      "File \u001b[1;32m~\\AppData\\Local\\Packages\\PythonSoftwareFoundation.Python.3.10_qbz5n2kfra8p0\\LocalCache\\local-packages\\Python310\\site-packages\\selenium\\webdriver\\support\\wait.py:95\u001b[0m, in \u001b[0;36mWebDriverWait.until\u001b[1;34m(self, method, message)\u001b[0m\n\u001b[0;32m     93\u001b[0m     \u001b[39mif\u001b[39;00m time\u001b[39m.\u001b[39mmonotonic() \u001b[39m>\u001b[39m end_time:\n\u001b[0;32m     94\u001b[0m         \u001b[39mbreak\u001b[39;00m\n\u001b[1;32m---> 95\u001b[0m \u001b[39mraise\u001b[39;00m TimeoutException(message, screen, stacktrace)\n",
      "\u001b[1;31mTimeoutException\u001b[0m: Message: \nStacktrace:\nBacktrace:\n\t(No symbol) [0x00B337D3]\n\t(No symbol) [0x00AC8B81]\n\t(No symbol) [0x009CB36D]\n\t(No symbol) [0x009FD382]\n\t(No symbol) [0x009FD4BB]\n\t(No symbol) [0x00A33302]\n\t(No symbol) [0x00A1B464]\n\t(No symbol) [0x00A31215]\n\t(No symbol) [0x00A1B216]\n\t(No symbol) [0x009F0D97]\n\t(No symbol) [0x009F253D]\n\tGetHandleVerifier [0x00DAABF2+2510930]\n\tGetHandleVerifier [0x00DD8EC1+2700065]\n\tGetHandleVerifier [0x00DDC86C+2714828]\n\tGetHandleVerifier [0x00BE3480+645344]\n\t(No symbol) [0x00AD0FD2]\n\t(No symbol) [0x00AD6C68]\n\t(No symbol) [0x00AD6D4B]\n\t(No symbol) [0x00AE0D6B]\n\tBaseThreadInitThunk [0x76CD00F9+25]\n\tRtlGetAppContainerNamedObjectPath [0x773D7BBE+286]\n\tRtlGetAppContainerNamedObjectPath [0x773D7B8E+238]\n"
     ]
    }
   ],
   "source": [
    "\n",
    "import time\n",
    "from selenium import webdriver\n",
    "from selenium.webdriver.common.by import By\n",
    "from selenium.webdriver.common.keys import Keys\n",
    "from selenium.webdriver.support.wait import WebDriverWait\n",
    "from webdriver_manager.chrome import ChromeDriverManager\n",
    "from selenium.webdriver.support import expected_conditions as EC\n",
    "from webdriver_manager.microsoft import EdgeChromiumDriverManager\n",
    "from selenium.webdriver.common.action_chains import ActionChains\n",
    "\n",
    "  \n",
    "driver = webdriver.Chrome(ChromeDriverManager().install())\n",
    "  \n",
    "# open the webpage\n",
    "driver.get(\"http://www.instagram.com\")\n",
    "  \n",
    "# target username\n",
    "username = WebDriverWait(\n",
    "    driver, 10).until(EC.element_to_be_clickable(\n",
    "        (By.CSS_SELECTOR, \"input[name='username']\")))\n",
    "  \n",
    "# target Password\n",
    "password = WebDriverWait(\n",
    "    driver, 10).until(EC.element_to_be_clickable(\n",
    "        (By.CSS_SELECTOR, \"input[name='password']\")))\n",
    "  \n",
    "# enter username and password\n",
    "username.clear()\n",
    "username.send_keys(\"j.barbosaa0\")\n",
    "password.clear()\n",
    "password.send_keys(\"Workpass123!\")\n",
    "  \n",
    "# target the login button and click it\n",
    "button = WebDriverWait(\n",
    "    driver, 2).until(EC.element_to_be_clickable(\n",
    "        (By.CSS_SELECTOR, \"button[type='submit']\"))).click()\n",
    "  \n",
    "time.sleep(5)\n",
    "  \n",
    "driver.get(\"https://www.instagram.com/geeks_for_geeks/followers/\")\n",
    "  \n",
    "  \n",
    "pop_up_window = WebDriverWait(driver, 2).until(EC.element_to_be_clickable((By.XPATH, \"//div[@class='isgrP']\")))\n",
    "  \n",
    "\n",
    "# Simulate scrolling down the pop-up window\n",
    "while True:\n",
    "    driver.execute_script(\"arguments[0].scrollTop = arguments[0].scrollHeight\", pop_up_window)\n",
    "    time.sleep(2) # wait for the page to load new followers\n",
    "\n",
    "    # Check if we have reached the bottom of the window\n",
    "    last_height = driver.execute_script(\"return arguments[0].scrollHeight\", pop_up_window)\n",
    "    new_height = driver.execute_script(\"arguments[0].scrollTop = arguments[0].scrollHeight\", pop_up_window)\n",
    "    if new_height == last_height:\n",
    "        break # we have reached the bottom of the window, exit the loop\n",
    "\n",
    "    # Simulate scrolling down some more\n",
    "    actions = ActionChains(driver)\n",
    "    actions.move_to_element(pop_up_window).click().perform()"
   ]
  }
 ],
 "metadata": {
  "kernelspec": {
   "display_name": "Python 3",
   "language": "python",
   "name": "python3"
  },
  "language_info": {
   "codemirror_mode": {
    "name": "ipython",
    "version": 3
   },
   "file_extension": ".py",
   "mimetype": "text/x-python",
   "name": "python",
   "nbconvert_exporter": "python",
   "pygments_lexer": "ipython3",
   "version": "3.10.10"
  },
  "orig_nbformat": 4,
  "vscode": {
   "interpreter": {
    "hash": "731bc96c81437d04cface232ba46d736fd2c65a83dd22965057c5a72c8d6958b"
   }
  }
 },
 "nbformat": 4,
 "nbformat_minor": 2
}
