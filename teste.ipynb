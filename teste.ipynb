{
 "cells": [
  {
   "cell_type": "code",
   "execution_count": 116,
   "metadata": {},
   "outputs": [],
   "source": [
    "from selenium import webdriver\n",
    "from webdriver_manager.chrome import ChromeDriverManager\n",
    "from selenium.webdriver.chrome.service import Service\n",
    "import pandas as pd\n",
    "from datetime import datetime\n",
    "import time\n",
    "import re\n",
    "\n",
    "serv = Service(ChromeDriverManager().install())\n",
    "driver = webdriver.Chrome(service=serv)\n",
    "\n",
    "id_acount = 'j.barbosaa0'\n",
    "pass_acount = 'Workpass123!'\n",
    "work_acount = 'j.barbosaa0'\n",
    "\n",
    "driver.get('https://www.instagram.com/')\n",
    "time.sleep(2)\n",
    "\n",
    "driver.find_element('xpath', '//*[@id=\"loginForm\"]/div/div[1]/div/label/input').send_keys(id_acount)\n",
    "driver.find_element('xpath', '//*[@id=\"loginForm\"]/div/div[2]/div/label/input').send_keys(pass_acount)\n",
    "driver.find_element('xpath', '//*[@id=\"loginForm\"]/div/div[3]').click()\n",
    "time.sleep(4)\n",
    "driver.get('https://www.instagram.com/unbpaquera/followers/')\n",
    "time.sleep(2)\n",
    "\n",
    "contador = 1\n",
    "for i in range(1, 6):\n",
    "    if driver.find_element('xpath', f'/html/body/div[2]/div/div/div/div[2]/div/div/div[1]/div/div[2]/div/div/div/div/div[2]/div/div/div[2]/div[1]/div/div[{i}]/div[3]/button/div/div').text == 'Seguir':\n",
    "        driver.find_element('xpath', f'/html/body/div[2]/div/div/div/div[2]/div/div/div[1]/div/div[2]/div/div/div/div/div[2]/div/div/div[2]/div[1]/div/div[{i}]/div[3]/button/div/div').click()\n",
    "        time.sleep(2)\n",
    "    else:\n",
    "        driver.find_element('xpath', f'/html/body/div[2]/div/div/div/div[2]/div/div/div[1]/div/div[2]/div/div/div/div/div[2]/div/div/div[2]/div[1]/div/div[{i}]/div[3]/button/div/div').click()\n",
    "        time.sleep(2)\n",
    "        driver.find_element('xpath', '/html/body/div[2]/div/div/div/div[2]/div/div/div[2]/div/div/div[1]/div/div[2]/div/div/div/div/div[2]/div/div/div[3]/button[1]').click()\n",
    "        time.sleep(2)\n",
    "\n",
    "\n",
    "\n"
   ]
  },
  {
   "cell_type": "markdown",
   "metadata": {},
   "source": []
  },
  {
   "cell_type": "code",
   "execution_count": null,
   "metadata": {},
   "outputs": [],
   "source": []
  }
 ],
 "metadata": {
  "language_info": {
   "name": "python"
  },
  "orig_nbformat": 4
 },
 "nbformat": 4,
 "nbformat_minor": 2
}
