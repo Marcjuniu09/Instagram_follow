{
 "cells": [
  {
   "cell_type": "code",
   "execution_count": 2,
   "metadata": {},
   "outputs": [
    {
     "name": "stderr",
     "output_type": "stream",
     "text": [
      "[WDM] - Downloading: 100%|██████████| 6.79M/6.79M [00:00<00:00, 11.1MB/s]\n"
     ]
    }
   ],
   "source": [
    "from selenium import webdriver\n",
    "from webdriver_manager.chrome import ChromeDriverManager\n",
    "from selenium.webdriver.chrome.service import Service\n",
    "import pandas as pd\n",
    "from datetime import datetime\n",
    "import time\n",
    "from selenium import webdriver\n",
    "from webdriver_manager.chrome import ChromeDriverManager\n",
    "from random import randint\n",
    "from functions import save_current_followers\n",
    "from functions import follow\n",
    "from functions import unfollow\n",
    "from functions import status_follow\n",
    "\n",
    "serv = Service(ChromeDriverManager().install())\n",
    "driver = webdriver.Chrome(service=serv)\n",
    "\n",
    "id_acount = 'j.barbosaa0'\n",
    "pass_acount = 'Workpass123!'\n",
    "work_acount = 'j.barbosaa0'\n",
    "acount_follow = 'majuu.qurz'\n",
    "\n",
    "\n",
    "#Parte que leva para a página de login\n",
    "driver.get('https://www.instagram.com/')\n",
    "time.sleep(2)\n",
    "driver.find_element('xpath', '//*[@id=\"loginForm\"]/div/div[1]/div/label/input').send_keys(id_acount)\n",
    "driver.find_element('xpath', '//*[@id=\"loginForm\"]/div/div[2]/div/label/input').send_keys(pass_acount)\n",
    "driver.find_element('xpath', '//*[@id=\"loginForm\"]/div/div[3]').click()\n",
    "time.sleep(10)\n",
    "\n",
    "\n",
    "unfollow(work_acount, driver)"
   ]
  }
 ],
 "metadata": {
  "kernelspec": {
   "display_name": "Python 3",
   "language": "python",
   "name": "python3"
  },
  "language_info": {
   "codemirror_mode": {
    "name": "ipython",
    "version": 3
   },
   "file_extension": ".py",
   "mimetype": "text/x-python",
   "name": "python",
   "nbconvert_exporter": "python",
   "pygments_lexer": "ipython3",
   "version": "3.10.10"
  },
  "orig_nbformat": 4
 },
 "nbformat": 4,
 "nbformat_minor": 2
}
